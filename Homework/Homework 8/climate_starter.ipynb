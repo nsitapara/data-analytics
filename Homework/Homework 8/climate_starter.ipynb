{
 "cells": [
  {
   "cell_type": "code",
   "execution_count": 1,
   "metadata": {},
   "outputs": [],
   "source": [
    "%matplotlib inline\n",
    "from matplotlib import style\n",
    "style.use('fivethirtyeight')\n",
    "import matplotlib.pyplot as plt"
   ]
  },
  {
   "cell_type": "code",
   "execution_count": 2,
   "metadata": {},
   "outputs": [],
   "source": [
    "import numpy as np\n",
    "import pandas as pd"
   ]
  },
  {
   "cell_type": "code",
   "execution_count": 3,
   "metadata": {},
   "outputs": [],
   "source": [
    "from datetime import datetime, timedelta\n"
   ]
  },
  {
   "cell_type": "markdown",
   "metadata": {},
   "source": [
    "# Reflect Tables into SQLAlchemy ORM"
   ]
  },
  {
   "cell_type": "code",
   "execution_count": 4,
   "metadata": {},
   "outputs": [],
   "source": [
    "# Python SQL toolkit and Object Relational Mapper\n",
    "import sqlalchemy\n",
    "from sqlalchemy.ext.automap import automap_base\n",
    "from sqlalchemy.orm import Session\n",
    "from sqlalchemy import create_engine, func"
   ]
  },
  {
   "cell_type": "code",
   "execution_count": 5,
   "metadata": {},
   "outputs": [],
   "source": [
    "engine = create_engine(\"sqlite:///Resources/hawaii.sqlite\")"
   ]
  },
  {
   "cell_type": "code",
   "execution_count": 6,
   "metadata": {},
   "outputs": [],
   "source": [
    "# reflect an existing database into a new model\n",
    "Base = automap_base()\n",
    "# reflect the tables\n",
    "Base.prepare(engine, reflect=True)"
   ]
  },
  {
   "cell_type": "code",
   "execution_count": 7,
   "metadata": {},
   "outputs": [
    {
     "data": {
      "text/plain": [
       "['measurement', 'station']"
      ]
     },
     "execution_count": 7,
     "metadata": {},
     "output_type": "execute_result"
    }
   ],
   "source": [
    "# We can view all of the classes that automap found\n",
    "Base.classes.keys()"
   ]
  },
  {
   "cell_type": "code",
   "execution_count": 8,
   "metadata": {},
   "outputs": [],
   "source": [
    "# Save references to each table\n",
    "Measurement = Base.classes.measurement\n",
    "Station = Base.classes.station"
   ]
  },
  {
   "cell_type": "code",
   "execution_count": 9,
   "metadata": {},
   "outputs": [],
   "source": [
    "# Create our session (link) from Python to the DB\n",
    "session = Session(engine)\n",
    "conn = engine.connect()"
   ]
  },
  {
   "cell_type": "code",
   "execution_count": 10,
   "metadata": {},
   "outputs": [],
   "source": [
    "date_list = []\n",
    "prcp_list = []\n",
    "temp_list = []\n",
    "for instance in session.query(Measurement):\n",
    "#     print(instance.date,instance.prcp)\n",
    "    date_list.append(instance.date)\n",
    "    prcp_list.append(instance.prcp)\n",
    "    temp_list.append(instance.tobs)"
   ]
  },
  {
   "cell_type": "code",
   "execution_count": 11,
   "metadata": {},
   "outputs": [],
   "source": [
    "# temp_list"
   ]
  },
  {
   "cell_type": "markdown",
   "metadata": {},
   "source": [
    "# Exploratory Climate Analysis"
   ]
  },
  {
   "cell_type": "code",
   "execution_count": 12,
   "metadata": {},
   "outputs": [
    {
     "name": "stdout",
     "output_type": "stream",
     "text": [
      "2017-08-23\n"
     ]
    }
   ],
   "source": [
    "# Design a query to retrieve the last 12 months of precipitation data and plot the results\n",
    "\n",
    "# print(year_data)\n",
    "# Calculate the date 1 year ago from today\n",
    "# now = dt.datetime.now()\n",
    "# todays_date = now.strftime(\"%Y-%m-%d\")\n",
    "# year_from_now = todays_date - \n",
    "max_date = pd.read_sql(\"select date from measurement\",conn)\n",
    "max_date = max_date.values.tolist()\n",
    "max_date = max(max_date)\n",
    "max_date = ''.join(max_date)\n",
    "print(max_date)\n",
    "year,month,day = max_date.split('-')\n",
    "# print(f\"year:{year},month{month},day{day}\")\n",
    "days_to_subtract = 365\n",
    "year_from_max = datetime(int(year),int(month),int(day)) - timedelta(days=days_to_subtract)\n",
    "# print(year_from_max)\n",
    "# Perform a query to retrieve the data and precipitation scores\n",
    "\n",
    "year_data = pd.read_sql(f\"select * from measurement where date >= '{year_from_max}'\",conn)\n",
    "# # Save the query results as a Pandas DataFrame and set the index to the date column\n",
    "# print(year_data)\n",
    "year_data = year_data[[\"date\",\"prcp\"]]\n",
    "year_data = year_data.set_index(\"date\")\n",
    "# Sort the dataframe by date\n",
    "year_data = year_data.sort_values(\"date\")\n",
    "year_data = year_data.reset_index()\n",
    "year_data = year_data[[\"prcp\"]]\n",
    "# year_data "
   ]
  },
  {
   "cell_type": "code",
   "execution_count": 13,
   "metadata": {},
   "outputs": [
    {
     "data": {
      "image/png": "[encoded data removed]",
      "text/plain": [
       "<Figure size 1080x1080 with 1 Axes>"
      ]
     },
     "metadata": {
      "needs_background": "light"
     },
     "output_type": "display_data"
    }
   ],
   "source": [
    "# Use Pandas Plotting with Matplotlib to plot the data\n",
    "\n",
    "year_data.plot(kind=\"bar\", figsize=(15,15), width = 3.5)\n",
    "plt.ylim(0,7)\n",
    "# Rotate the xticks for the dates\n",
    "plt.xticks(rotation=90)\n",
    "plt.savefig(\"precipitationgraph.png\")\n",
    "plt.show()"
   ]
  },
  {
   "cell_type": "markdown",
   "metadata": {},
   "source": [
    "|![precipitation](Images/precipitation.png)"
   ]
  },
  {
   "cell_type": "code",
   "execution_count": 14,
   "metadata": {},
   "outputs": [
    {
     "data": {
      "text/html": [
       "<div>\n",
       "<style scoped>\n",
       "    .dataframe tbody tr th:only-of-type {\n",
       "        vertical-align: middle;\n",
       "    }\n",
       "\n",
       "    .dataframe tbody tr th {\n",
       "        vertical-align: top;\n",
       "    }\n",
       "\n",
       "    .dataframe thead th {\n",
       "        text-align: right;\n",
       "    }\n",
       "</style>\n",
       "<table border=\"1\" class=\"dataframe\">\n",
       "  <thead>\n",
       "    <tr style=\"text-align: right;\">\n",
       "      <th></th>\n",
       "      <th>prcp</th>\n",
       "    </tr>\n",
       "  </thead>\n",
       "  <tbody>\n",
       "    <tr>\n",
       "      <th>count</th>\n",
       "      <td>2015.000000</td>\n",
       "    </tr>\n",
       "    <tr>\n",
       "      <th>mean</th>\n",
       "      <td>0.176462</td>\n",
       "    </tr>\n",
       "    <tr>\n",
       "      <th>std</th>\n",
       "      <td>0.460288</td>\n",
       "    </tr>\n",
       "    <tr>\n",
       "      <th>min</th>\n",
       "      <td>0.000000</td>\n",
       "    </tr>\n",
       "    <tr>\n",
       "      <th>25%</th>\n",
       "      <td>0.000000</td>\n",
       "    </tr>\n",
       "    <tr>\n",
       "      <th>50%</th>\n",
       "      <td>0.020000</td>\n",
       "    </tr>\n",
       "    <tr>\n",
       "      <th>75%</th>\n",
       "      <td>0.130000</td>\n",
       "    </tr>\n",
       "    <tr>\n",
       "      <th>max</th>\n",
       "      <td>6.700000</td>\n",
       "    </tr>\n",
       "  </tbody>\n",
       "</table>\n",
       "</div>"
      ],
      "text/plain": [
       "              prcp\n",
       "count  2015.000000\n",
       "mean      0.176462\n",
       "std       0.460288\n",
       "min       0.000000\n",
       "25%       0.000000\n",
       "50%       0.020000\n",
       "75%       0.130000\n",
       "max       6.700000"
      ]
     },
     "execution_count": 14,
     "metadata": {},
     "output_type": "execute_result"
    }
   ],
   "source": [
    "# Use Pandas to calcualte the summary statistics for the precipitation data\n",
    "year_data.describe()"
   ]
  },
  {
   "cell_type": "code",
   "execution_count": 15,
   "metadata": {},
   "outputs": [
    {
     "data": {
      "text/plain": [
       "9"
      ]
     },
     "execution_count": 15,
     "metadata": {},
     "output_type": "execute_result"
    }
   ],
   "source": [
    "# How many stations are available in this dataset?\n",
    "all_data = pd.read_sql(\"select * from measurement\", conn)\n",
    "nunique = all_data.nunique()\n",
    "nunique = nunique.to_dict()\n",
    "nunique['station']"
   ]
  },
  {
   "cell_type": "code",
   "execution_count": 16,
   "metadata": {},
   "outputs": [
    {
     "data": {
      "text/plain": [
       "station\n",
       "USC00519281    2772\n",
       "USC00519397    2724\n",
       "USC00513117    2709\n",
       "USC00519523    2669\n",
       "USC00516128    2612\n",
       "USC00514830    2202\n",
       "USC00511918    1979\n",
       "USC00517948    1372\n",
       "USC00518838     511\n",
       "Name: id, dtype: int64"
      ]
     },
     "execution_count": 16,
     "metadata": {},
     "output_type": "execute_result"
    }
   ],
   "source": [
    "# What are the most active stations?\n",
    "# List the stations and the counts in descending order.\n",
    "most_active_station = all_data.groupby(\"station\").count()\n",
    "most_active_station[\"id\"].sort_values(ascending = False)"
   ]
  },
  {
   "cell_type": "code",
   "execution_count": 17,
   "metadata": {},
   "outputs": [
    {
     "data": {
      "text/plain": [
       "([54.0], [85.0], [71.66378066378067])"
      ]
     },
     "execution_count": 17,
     "metadata": {},
     "output_type": "execute_result"
    }
   ],
   "source": [
    "# Using the station id from the previous query, calculate the lowest temperature recorded, \n",
    "# highest temperature recorded, and average temperature most active station?\n",
    "USC00519281 = pd.read_sql(\"select * from measurement where station = 'USC00519281'\",conn)\n",
    "USC00519281\n",
    "USC00519281 = USC00519281[[\"tobs\"]]\n",
    "USC00519281_max = USC00519281.max().tolist()\n",
    "USC00519281_min = USC00519281.min().tolist()\n",
    "USC00519281_avg = USC00519281.mean().tolist()\n",
    "\n",
    "to_list = (USC00519281_min,USC00519281_max,USC00519281_avg)\n",
    "to_list\n",
    "# records = []\n",
    "# for value in to_list:\n",
    "#     print(items)"
   ]
  },
  {
   "cell_type": "code",
   "execution_count": 18,
   "metadata": {},
   "outputs": [
    {
     "data": {
      "text/plain": [
       "<matplotlib.axes._subplots.AxesSubplot at 0x221b6b47b38>"
      ]
     },
     "execution_count": 18,
     "metadata": {},
     "output_type": "execute_result"
    },
    {
     "data": {
      "image/png": "[encoded data removed]",
      "text/plain": [
       "<Figure size 432x288 with 1 Axes>"
      ]
     },
     "metadata": {
      "needs_background": "light"
     },
     "output_type": "display_data"
    }
   ],
   "source": [
    "# Choose the station with the highest number of temperature observations.\n",
    "# Query the last 12 months of temperature observation data for this station and plot the results as a histogram\n",
    "highest_number_temp = all_data[[\"station\",\"tobs\"]]\n",
    "highest_number_temp = highest_number_temp.groupby(\"station\").count()\n",
    "highest_number_temp = highest_number_temp.sort_values(by=\"tobs\",ascending=False)\n",
    "highest_number_temp\n",
    "USC00519281_tobs = pd.read_sql(\"select tobs from measurement where station = 'USC00519281'\",conn)\n",
    "USC00519281_tobs.plot(kind='hist')"
   ]
  },
  {
   "cell_type": "code",
   "execution_count": 19,
   "metadata": {},
   "outputs": [
    {
     "name": "stdout",
     "output_type": "stream",
     "text": [
      "[(62.0, 69.57142857142857, 74.0)]\n"
     ]
    }
   ],
   "source": [
    "# Write a function called `calc_temps` that will accept start date and end date in the format '%Y-%m-%d' \n",
    "# and return the minimum, average, and maximum temperatures for that range of dates\n",
    "def calc_temps(start_date, end_date):\n",
    "#     tmin = session.query(func.min(Measurement.tobs)).filter(Measurement.date >= start_date).filter(Measurement.date <= end_date).all()\n",
    "#     tavg = session.query(func.avg(Measurement.tobs)).filter(Measurement.date >= start_date).filter(Measurement.date <= end_date).all()\n",
    "#     tmax = session.query(func.max(Measurement.tobs)).filter(Measurement.date >= start_date).filter(Measurement.date <= end_date).all()\n",
    "    \"\"\"TMIN, TAVG, and TMAX for a list of dates.\n",
    "    Args:\n",
    "        start_date (string): A date string in the format %Y-%m-%d\n",
    "        end_date (string): A date string in the format %Y-%m-%d\n",
    "        \n",
    "    Returns:\n",
    "        TMIN, TAVE, and TMAX\n",
    "    \"\"\"\n",
    "    toreturn = session.query(\\\n",
    "    func.min(Measurement.tobs),\\\n",
    "    func.avg(Measurement.tobs),\\\n",
    "    func.max(Measurement.tobs)).\\\n",
    "    filter(Measurement.date >=start_date).\\\n",
    "    filter(Measurement.date <=end_date).\\\n",
    "    all()\n",
    "#     print(toreturn)\n",
    "#     toreturn = toreturn[0]\n",
    "#     TMIN = toreturn[0]\n",
    "#     TAVE = toreturn[1]\n",
    "#     TMAX = toreturn[2]\n",
    "# #     print(TMIN, TAVE, TMAX)\n",
    "    return toreturn\n",
    "print(calc_temps('2012-02-28', '2012-03-05'))"
   ]
  },
  {
   "cell_type": "code",
   "execution_count": 20,
   "metadata": {},
   "outputs": [
    {
     "name": "stdout",
     "output_type": "stream",
     "text": [
      "2017-08-23\n",
      "[(58.0, 74.59058295964125, 87.0)]\n"
     ]
    }
   ],
   "source": [
    "# Use your previous function `calc_temps` to calculate the tmin, tavg, and tmax \n",
    "# for your trip using the previous year's data for those same dates.\n",
    "print(max_date)\n",
    "max_date = str(max_date)\n",
    "year_from_max = str(year_from_max.date())\n",
    "to_bar_chart = calc_temps(year_from_max,max_date)\n",
    "print(to_bar_chart)"
   ]
  },
  {
   "cell_type": "code",
   "execution_count": 68,
   "metadata": {},
   "outputs": [
    {
     "name": "stdout",
     "output_type": "stream",
     "text": [
      "   Trip Avg Temp\n",
      "0      74.590583\n"
     ]
    },
    {
     "data": {
      "image/png": "[encoded data removed]",
      "text/plain": [
       "<Figure size 360x720 with 1 Axes>"
      ]
     },
     "metadata": {
      "needs_background": "light"
     },
     "output_type": "display_data"
    }
   ],
   "source": [
    "convert_to_individual = to_bar_chart[0]\n",
    "TMIN = convert_to_individual[0]\n",
    "TAVG = convert_to_individual[1]\n",
    "TMAX = convert_to_individual[2]\n",
    "\n",
    "tavg_frame = pd.DataFrame({\"Trip Avg Temp\":[TAVG]})\n",
    "print(tavg_frame)\n",
    "tavg_frame.plot(kind=\"bar\",width=.3,yerr=(TMAX-TMIN),figsize=(5,10))\n",
    "# print(TMIN,TAVE,TMAX)\n",
    "# Plot the results from your previous query as a bar chart. \n",
    "plt.title(\"Trip Avg Temp\")\n",
    "plt.legend('')\n",
    "# plt.xticks(ticks='')\n",
    "plt.xlabel(\"Avg Temp\")\n",
    "# plt.bar(x=\"\",height=TAVG,width=.01,yerr=(TMAX-TMIN))\n",
    "# plt.figure(figsize=(10,4))\n",
    "# Use \"Trip Avg Temp\" as your Title\n",
    "# Use the average temperature for the y value\n",
    "plt.ylabel(\"Average Temperature\")\n",
    "# Use the peak-to-peak (tmax-tmin) value as the y error bar (yerr)\n",
    "\n",
    "plt.tight_layout()\n",
    "plt.savefig(\"BarChart.jpg\")\n",
    "plt.show()\n",
    "\n"
   ]
  },
  {
   "cell_type": "code",
   "execution_count": 78,
   "metadata": {},
   "outputs": [
    {
     "data": {
      "text/html": [
       "<div>\n",
       "<style scoped>\n",
       "    .dataframe tbody tr th:only-of-type {\n",
       "        vertical-align: middle;\n",
       "    }\n",
       "\n",
       "    .dataframe tbody tr th {\n",
       "        vertical-align: top;\n",
       "    }\n",
       "\n",
       "    .dataframe thead th {\n",
       "        text-align: right;\n",
       "    }\n",
       "</style>\n",
       "<table border=\"1\" class=\"dataframe\">\n",
       "  <thead>\n",
       "    <tr style=\"text-align: right;\">\n",
       "      <th></th>\n",
       "      <th>0</th>\n",
       "    </tr>\n",
       "  </thead>\n",
       "  <tbody>\n",
       "    <tr>\n",
       "      <th>0</th>\n",
       "      <td>&lt;sqlalchemy.ext.automap.measurement object at ...</td>\n",
       "    </tr>\n",
       "    <tr>\n",
       "      <th>1</th>\n",
       "      <td>&lt;sqlalchemy.ext.automap.measurement object at ...</td>\n",
       "    </tr>\n",
       "    <tr>\n",
       "      <th>2</th>\n",
       "      <td>&lt;sqlalchemy.ext.automap.measurement object at ...</td>\n",
       "    </tr>\n",
       "    <tr>\n",
       "      <th>3</th>\n",
       "      <td>&lt;sqlalchemy.ext.automap.measurement object at ...</td>\n",
       "    </tr>\n",
       "    <tr>\n",
       "      <th>4</th>\n",
       "      <td>&lt;sqlalchemy.ext.automap.measurement object at ...</td>\n",
       "    </tr>\n",
       "    <tr>\n",
       "      <th>5</th>\n",
       "      <td>&lt;sqlalchemy.ext.automap.measurement object at ...</td>\n",
       "    </tr>\n",
       "    <tr>\n",
       "      <th>6</th>\n",
       "      <td>&lt;sqlalchemy.ext.automap.measurement object at ...</td>\n",
       "    </tr>\n",
       "    <tr>\n",
       "      <th>7</th>\n",
       "      <td>&lt;sqlalchemy.ext.automap.measurement object at ...</td>\n",
       "    </tr>\n",
       "    <tr>\n",
       "      <th>8</th>\n",
       "      <td>&lt;sqlalchemy.ext.automap.measurement object at ...</td>\n",
       "    </tr>\n",
       "    <tr>\n",
       "      <th>9</th>\n",
       "      <td>&lt;sqlalchemy.ext.automap.measurement object at ...</td>\n",
       "    </tr>\n",
       "    <tr>\n",
       "      <th>10</th>\n",
       "      <td>&lt;sqlalchemy.ext.automap.measurement object at ...</td>\n",
       "    </tr>\n",
       "    <tr>\n",
       "      <th>11</th>\n",
       "      <td>&lt;sqlalchemy.ext.automap.measurement object at ...</td>\n",
       "    </tr>\n",
       "    <tr>\n",
       "      <th>12</th>\n",
       "      <td>&lt;sqlalchemy.ext.automap.measurement object at ...</td>\n",
       "    </tr>\n",
       "    <tr>\n",
       "      <th>13</th>\n",
       "      <td>&lt;sqlalchemy.ext.automap.measurement object at ...</td>\n",
       "    </tr>\n",
       "    <tr>\n",
       "      <th>14</th>\n",
       "      <td>&lt;sqlalchemy.ext.automap.measurement object at ...</td>\n",
       "    </tr>\n",
       "    <tr>\n",
       "      <th>15</th>\n",
       "      <td>&lt;sqlalchemy.ext.automap.measurement object at ...</td>\n",
       "    </tr>\n",
       "    <tr>\n",
       "      <th>16</th>\n",
       "      <td>&lt;sqlalchemy.ext.automap.measurement object at ...</td>\n",
       "    </tr>\n",
       "    <tr>\n",
       "      <th>17</th>\n",
       "      <td>&lt;sqlalchemy.ext.automap.measurement object at ...</td>\n",
       "    </tr>\n",
       "    <tr>\n",
       "      <th>18</th>\n",
       "      <td>&lt;sqlalchemy.ext.automap.measurement object at ...</td>\n",
       "    </tr>\n",
       "    <tr>\n",
       "      <th>19</th>\n",
       "      <td>&lt;sqlalchemy.ext.automap.measurement object at ...</td>\n",
       "    </tr>\n",
       "    <tr>\n",
       "      <th>20</th>\n",
       "      <td>&lt;sqlalchemy.ext.automap.measurement object at ...</td>\n",
       "    </tr>\n",
       "    <tr>\n",
       "      <th>21</th>\n",
       "      <td>&lt;sqlalchemy.ext.automap.measurement object at ...</td>\n",
       "    </tr>\n",
       "    <tr>\n",
       "      <th>22</th>\n",
       "      <td>&lt;sqlalchemy.ext.automap.measurement object at ...</td>\n",
       "    </tr>\n",
       "    <tr>\n",
       "      <th>23</th>\n",
       "      <td>&lt;sqlalchemy.ext.automap.measurement object at ...</td>\n",
       "    </tr>\n",
       "    <tr>\n",
       "      <th>24</th>\n",
       "      <td>&lt;sqlalchemy.ext.automap.measurement object at ...</td>\n",
       "    </tr>\n",
       "    <tr>\n",
       "      <th>25</th>\n",
       "      <td>&lt;sqlalchemy.ext.automap.measurement object at ...</td>\n",
       "    </tr>\n",
       "    <tr>\n",
       "      <th>26</th>\n",
       "      <td>&lt;sqlalchemy.ext.automap.measurement object at ...</td>\n",
       "    </tr>\n",
       "    <tr>\n",
       "      <th>27</th>\n",
       "      <td>&lt;sqlalchemy.ext.automap.measurement object at ...</td>\n",
       "    </tr>\n",
       "    <tr>\n",
       "      <th>28</th>\n",
       "      <td>&lt;sqlalchemy.ext.automap.measurement object at ...</td>\n",
       "    </tr>\n",
       "    <tr>\n",
       "      <th>29</th>\n",
       "      <td>&lt;sqlalchemy.ext.automap.measurement object at ...</td>\n",
       "    </tr>\n",
       "    <tr>\n",
       "      <th>...</th>\n",
       "      <td>...</td>\n",
       "    </tr>\n",
       "    <tr>\n",
       "      <th>19520</th>\n",
       "      <td>&lt;sqlalchemy.ext.automap.measurement object at ...</td>\n",
       "    </tr>\n",
       "    <tr>\n",
       "      <th>19521</th>\n",
       "      <td>&lt;sqlalchemy.ext.automap.measurement object at ...</td>\n",
       "    </tr>\n",
       "    <tr>\n",
       "      <th>19522</th>\n",
       "      <td>&lt;sqlalchemy.ext.automap.measurement object at ...</td>\n",
       "    </tr>\n",
       "    <tr>\n",
       "      <th>19523</th>\n",
       "      <td>&lt;sqlalchemy.ext.automap.measurement object at ...</td>\n",
       "    </tr>\n",
       "    <tr>\n",
       "      <th>19524</th>\n",
       "      <td>&lt;sqlalchemy.ext.automap.measurement object at ...</td>\n",
       "    </tr>\n",
       "    <tr>\n",
       "      <th>19525</th>\n",
       "      <td>&lt;sqlalchemy.ext.automap.measurement object at ...</td>\n",
       "    </tr>\n",
       "    <tr>\n",
       "      <th>19526</th>\n",
       "      <td>&lt;sqlalchemy.ext.automap.measurement object at ...</td>\n",
       "    </tr>\n",
       "    <tr>\n",
       "      <th>19527</th>\n",
       "      <td>&lt;sqlalchemy.ext.automap.measurement object at ...</td>\n",
       "    </tr>\n",
       "    <tr>\n",
       "      <th>19528</th>\n",
       "      <td>&lt;sqlalchemy.ext.automap.measurement object at ...</td>\n",
       "    </tr>\n",
       "    <tr>\n",
       "      <th>19529</th>\n",
       "      <td>&lt;sqlalchemy.ext.automap.measurement object at ...</td>\n",
       "    </tr>\n",
       "    <tr>\n",
       "      <th>19530</th>\n",
       "      <td>&lt;sqlalchemy.ext.automap.measurement object at ...</td>\n",
       "    </tr>\n",
       "    <tr>\n",
       "      <th>19531</th>\n",
       "      <td>&lt;sqlalchemy.ext.automap.measurement object at ...</td>\n",
       "    </tr>\n",
       "    <tr>\n",
       "      <th>19532</th>\n",
       "      <td>&lt;sqlalchemy.ext.automap.measurement object at ...</td>\n",
       "    </tr>\n",
       "    <tr>\n",
       "      <th>19533</th>\n",
       "      <td>&lt;sqlalchemy.ext.automap.measurement object at ...</td>\n",
       "    </tr>\n",
       "    <tr>\n",
       "      <th>19534</th>\n",
       "      <td>&lt;sqlalchemy.ext.automap.measurement object at ...</td>\n",
       "    </tr>\n",
       "    <tr>\n",
       "      <th>19535</th>\n",
       "      <td>&lt;sqlalchemy.ext.automap.measurement object at ...</td>\n",
       "    </tr>\n",
       "    <tr>\n",
       "      <th>19536</th>\n",
       "      <td>&lt;sqlalchemy.ext.automap.measurement object at ...</td>\n",
       "    </tr>\n",
       "    <tr>\n",
       "      <th>19537</th>\n",
       "      <td>&lt;sqlalchemy.ext.automap.measurement object at ...</td>\n",
       "    </tr>\n",
       "    <tr>\n",
       "      <th>19538</th>\n",
       "      <td>&lt;sqlalchemy.ext.automap.measurement object at ...</td>\n",
       "    </tr>\n",
       "    <tr>\n",
       "      <th>19539</th>\n",
       "      <td>&lt;sqlalchemy.ext.automap.measurement object at ...</td>\n",
       "    </tr>\n",
       "    <tr>\n",
       "      <th>19540</th>\n",
       "      <td>&lt;sqlalchemy.ext.automap.measurement object at ...</td>\n",
       "    </tr>\n",
       "    <tr>\n",
       "      <th>19541</th>\n",
       "      <td>&lt;sqlalchemy.ext.automap.measurement object at ...</td>\n",
       "    </tr>\n",
       "    <tr>\n",
       "      <th>19542</th>\n",
       "      <td>&lt;sqlalchemy.ext.automap.measurement object at ...</td>\n",
       "    </tr>\n",
       "    <tr>\n",
       "      <th>19543</th>\n",
       "      <td>&lt;sqlalchemy.ext.automap.measurement object at ...</td>\n",
       "    </tr>\n",
       "    <tr>\n",
       "      <th>19544</th>\n",
       "      <td>&lt;sqlalchemy.ext.automap.measurement object at ...</td>\n",
       "    </tr>\n",
       "    <tr>\n",
       "      <th>19545</th>\n",
       "      <td>&lt;sqlalchemy.ext.automap.measurement object at ...</td>\n",
       "    </tr>\n",
       "    <tr>\n",
       "      <th>19546</th>\n",
       "      <td>&lt;sqlalchemy.ext.automap.measurement object at ...</td>\n",
       "    </tr>\n",
       "    <tr>\n",
       "      <th>19547</th>\n",
       "      <td>&lt;sqlalchemy.ext.automap.measurement object at ...</td>\n",
       "    </tr>\n",
       "    <tr>\n",
       "      <th>19548</th>\n",
       "      <td>&lt;sqlalchemy.ext.automap.measurement object at ...</td>\n",
       "    </tr>\n",
       "    <tr>\n",
       "      <th>19549</th>\n",
       "      <td>&lt;sqlalchemy.ext.automap.measurement object at ...</td>\n",
       "    </tr>\n",
       "  </tbody>\n",
       "</table>\n",
       "<p>19550 rows × 1 columns</p>\n",
       "</div>"
      ],
      "text/plain": [
       "                                                       0\n",
       "0      <sqlalchemy.ext.automap.measurement object at ...\n",
       "1      <sqlalchemy.ext.automap.measurement object at ...\n",
       "2      <sqlalchemy.ext.automap.measurement object at ...\n",
       "3      <sqlalchemy.ext.automap.measurement object at ...\n",
       "4      <sqlalchemy.ext.automap.measurement object at ...\n",
       "5      <sqlalchemy.ext.automap.measurement object at ...\n",
       "6      <sqlalchemy.ext.automap.measurement object at ...\n",
       "7      <sqlalchemy.ext.automap.measurement object at ...\n",
       "8      <sqlalchemy.ext.automap.measurement object at ...\n",
       "9      <sqlalchemy.ext.automap.measurement object at ...\n",
       "10     <sqlalchemy.ext.automap.measurement object at ...\n",
       "11     <sqlalchemy.ext.automap.measurement object at ...\n",
       "12     <sqlalchemy.ext.automap.measurement object at ...\n",
       "13     <sqlalchemy.ext.automap.measurement object at ...\n",
       "14     <sqlalchemy.ext.automap.measurement object at ...\n",
       "15     <sqlalchemy.ext.automap.measurement object at ...\n",
       "16     <sqlalchemy.ext.automap.measurement object at ...\n",
       "17     <sqlalchemy.ext.automap.measurement object at ...\n",
       "18     <sqlalchemy.ext.automap.measurement object at ...\n",
       "19     <sqlalchemy.ext.automap.measurement object at ...\n",
       "20     <sqlalchemy.ext.automap.measurement object at ...\n",
       "21     <sqlalchemy.ext.automap.measurement object at ...\n",
       "22     <sqlalchemy.ext.automap.measurement object at ...\n",
       "23     <sqlalchemy.ext.automap.measurement object at ...\n",
       "24     <sqlalchemy.ext.automap.measurement object at ...\n",
       "25     <sqlalchemy.ext.automap.measurement object at ...\n",
       "26     <sqlalchemy.ext.automap.measurement object at ...\n",
       "27     <sqlalchemy.ext.automap.measurement object at ...\n",
       "28     <sqlalchemy.ext.automap.measurement object at ...\n",
       "29     <sqlalchemy.ext.automap.measurement object at ...\n",
       "...                                                  ...\n",
       "19520  <sqlalchemy.ext.automap.measurement object at ...\n",
       "19521  <sqlalchemy.ext.automap.measurement object at ...\n",
       "19522  <sqlalchemy.ext.automap.measurement object at ...\n",
       "19523  <sqlalchemy.ext.automap.measurement object at ...\n",
       "19524  <sqlalchemy.ext.automap.measurement object at ...\n",
       "19525  <sqlalchemy.ext.automap.measurement object at ...\n",
       "19526  <sqlalchemy.ext.automap.measurement object at ...\n",
       "19527  <sqlalchemy.ext.automap.measurement object at ...\n",
       "19528  <sqlalchemy.ext.automap.measurement object at ...\n",
       "19529  <sqlalchemy.ext.automap.measurement object at ...\n",
       "19530  <sqlalchemy.ext.automap.measurement object at ...\n",
       "19531  <sqlalchemy.ext.automap.measurement object at ...\n",
       "19532  <sqlalchemy.ext.automap.measurement object at ...\n",
       "19533  <sqlalchemy.ext.automap.measurement object at ...\n",
       "19534  <sqlalchemy.ext.automap.measurement object at ...\n",
       "19535  <sqlalchemy.ext.automap.measurement object at ...\n",
       "19536  <sqlalchemy.ext.automap.measurement object at ...\n",
       "19537  <sqlalchemy.ext.automap.measurement object at ...\n",
       "19538  <sqlalchemy.ext.automap.measurement object at ...\n",
       "19539  <sqlalchemy.ext.automap.measurement object at ...\n",
       "19540  <sqlalchemy.ext.automap.measurement object at ...\n",
       "19541  <sqlalchemy.ext.automap.measurement object at ...\n",
       "19542  <sqlalchemy.ext.automap.measurement object at ...\n",
       "19543  <sqlalchemy.ext.automap.measurement object at ...\n",
       "19544  <sqlalchemy.ext.automap.measurement object at ...\n",
       "19545  <sqlalchemy.ext.automap.measurement object at ...\n",
       "19546  <sqlalchemy.ext.automap.measurement object at ...\n",
       "19547  <sqlalchemy.ext.automap.measurement object at ...\n",
       "19548  <sqlalchemy.ext.automap.measurement object at ...\n",
       "19549  <sqlalchemy.ext.automap.measurement object at ...\n",
       "\n",
       "[19550 rows x 1 columns]"
      ]
     },
     "execution_count": 78,
     "metadata": {},
     "output_type": "execute_result"
    }
   ],
   "source": [
    "# Calculate the rainfall per weather station for your trip dates using the previous year's matching dates.\n",
    "# Sort this in descending order by precipitation amount and list the station, name, latitude, longitude, and elevation\n",
    "\n",
    "# rainfall_per_station = all_data.groupby(\"station\")\n",
    "\n",
    "rainfall_per_station \n",
    "rainfall_per_station"
   ]
  },
  {
   "cell_type": "markdown",
   "metadata": {},
   "source": [
    "## Optional Challenge Assignment"
   ]
  },
  {
   "cell_type": "code",
   "execution_count": null,
   "metadata": {},
   "outputs": [],
   "source": [
    "# Create a query that will calculate the daily normals \n",
    "# (i.e. the averages for tmin, tmax, and tavg for all historic data matching a specific month and day)\n",
    "\n",
    "def daily_normals(date):\n",
    "    \"\"\"Daily Normals.\n",
    "    \n",
    "    Args:\n",
    "        date (str): A date string in the format '%m-%d'\n",
    "        \n",
    "    Returns:\n",
    "        A list of tuples containing the daily normals, tmin, tavg, and tmax\n",
    "    \n",
    "    \"\"\"\n",
    "    \n",
    "    sel = [func.min(Measurement.tobs), func.avg(Measurement.tobs), func.max(Measurement.tobs)]\n",
    "    return session.query(*sel).filter(func.strftime(\"%m-%d\", Measurement.date) == date).all()\n",
    "    \n",
    "daily_normals(\"01-01\")"
   ]
  },
  {
   "cell_type": "code",
   "execution_count": null,
   "metadata": {},
   "outputs": [],
   "source": [
    "# calculate the daily normals for your trip\n",
    "# push each tuple of calculations into a list called `normals`\n",
    "\n",
    "# Set the start and end date of the trip\n",
    "\n",
    "# Use the start and end date to create a range of dates\n",
    "\n",
    "# Stip off the year and save a list of %m-%d strings\n",
    "\n",
    "# Loop through the list of %m-%d strings and calculate the normals for each date\n"
   ]
  },
  {
   "cell_type": "code",
   "execution_count": null,
   "metadata": {},
   "outputs": [],
   "source": [
    "# Load the previous query results into a Pandas DataFrame and add the `trip_dates` range as the `date` index\n"
   ]
  },
  {
   "cell_type": "code",
   "execution_count": null,
   "metadata": {},
   "outputs": [],
   "source": [
    "# Plot the daily normals as an area plot with `stacked=False`\n"
   ]
  }
 ],
 "metadata": {
  "kernel_info": {
   "name": "python3"
  },
  "kernelspec": {
   "display_name": "Python 3",
   "language": "python",
   "name": "python3"
  },
  "language_info": {
   "codemirror_mode": {
    "name": "ipython",
    "version": 3
   },
   "file_extension": ".py",
   "mimetype": "text/x-python",
   "name": "python",
   "nbconvert_exporter": "python",
   "pygments_lexer": "ipython3",
   "version": "3.7.0"
  },
  "nteract": {
   "version": "0.9.1"
  },
  "varInspector": {
   "cols": {
    "lenName": 16,
    "lenType": 16,
    "lenVar": 40
   },
   "kernels_config": {
    "python": {
     "delete_cmd_postfix": "",
     "delete_cmd_prefix": "del ",
     "library": "var_list.py",
     "varRefreshCmd": "print(var_dic_list())"
    },
    "r": {
     "delete_cmd_postfix": ") ",
     "delete_cmd_prefix": "rm(",
     "library": "var_list.r",
     "varRefreshCmd": "cat(var_dic_list()) "
    }
   },
   "types_to_exclude": [
    "module",
    "function",
    "builtin_function_or_method",
    "instance",
    "_Feature"
   ],
   "window_display": false
  }
 },
 "nbformat": 4,
 "nbformat_minor": 2
}

{
 "cells": [
  {
   "cell_type": "code",
   "execution_count": 1,
   "metadata": {},
   "outputs": [],
   "source": [
    "import pandas as pd\n",
    "import requests\n",
    "from bs4 import BeautifulSoup\n",
    "from splinter import Browser\n",
    "import pymongo"
   ]
  },
  {
   "cell_type": "code",
   "execution_count": 2,
   "metadata": {},
   "outputs": [],
   "source": [
    "executable_path = {'executable_path': 'chromedriver.exe'}\n",
    "browser = Browser('chrome', **executable_path, headless=False)"
   ]
  },
  {
   "cell_type": "code",
   "execution_count": 3,
   "metadata": {},
   "outputs": [],
   "source": [
    "url = 'https://mars.nasa.gov/news/'\n",
    "browser.visit(url)"
   ]
  },
  {
   "cell_type": "code",
   "execution_count": 4,
   "metadata": {},
   "outputs": [],
   "source": [
    "date_list = []\n",
    "title_list = []\n",
    "url_list = []\n",
    "article_data = []\n",
    "html = browser.html\n",
    "soup = BeautifulSoup(html, 'html.parser')\n",
    "# data = soup.find_all('ul', class_='item_list ')\n",
    "#     slides = data.find_all('div', class_=)\n",
    "slides = soup.find_all('li', class_='slide')\n",
    "\n",
    "for item in slides:\n",
    "    date = item.find('div', class_=\"list_date\")\n",
    "    url = item.find('a')['href']\n",
    "    title = item.find('h3')\n",
    "    paragraph = item.find('div', class_='article_teaser_body')\n",
    "    link = 'https://mars.nasa.gov/' + url\n",
    "    # print(date.text)\n",
    "    # print(link)\n",
    "    # print(title.text)\n",
    "    date_list.append(date.text)\n",
    "    url_list.append(link)\n",
    "    title_list.append(title.text)\n",
    "    article_data.append((paragraph.text))"
   ]
  },
  {
   "cell_type": "code",
   "execution_count": 5,
   "metadata": {
    "scrolled": true
   },
   "outputs": [
    {
     "data": {
      "text/plain": [
       "['https://mars.nasa.gov//news/8402/nasas-insight-places-first-instrument-on-mars/',\n",
       " 'https://mars.nasa.gov//news/8401/insight-engineers-have-made-a-martian-rock-garden/',\n",
       " 'https://mars.nasa.gov//news/8400/mars-insight-lander-seen-in-first-images-from-space/',\n",
       " 'https://mars.nasa.gov//news/8398/nasas-insight-takes-its-first-selfie/',\n",
       " 'https://mars.nasa.gov//news/8397/nasa-insight-lander-hears-martian-winds/',\n",
       " 'https://mars.nasa.gov//news/8396/nasas-mars-insight-flexes-its-arm/',\n",
       " 'https://mars.nasa.gov//news/8395/mars-new-home-a-large-sandbox/',\n",
       " 'https://mars.nasa.gov//news/8394/nasa-hears-marco-cubesats-loud-and-clear-from-mars/',\n",
       " 'https://mars.nasa.gov//news/8393/insight-is-catching-rays-on-mars/',\n",
       " 'https://mars.nasa.gov//news/8392/nasa-insight-lander-arrives-on-martian-surface/',\n",
       " 'https://mars.nasa.gov//news/8391/landing-day-for-insight/',\n",
       " 'https://mars.nasa.gov//news/8390/nasa-insight-landing-on-mars-milestones/',\n",
       " 'https://mars.nasa.gov//news/8389/nasa-insight-team-on-course-for-mars-touchdown/',\n",
       " 'https://mars.nasa.gov//news/8388/what-two-planetary-siblings-can-teach-us-about-life/',\n",
       " 'https://mars.nasa.gov//news/8387/nasa-announces-landing-site-for-mars-2020-rover/',\n",
       " 'https://mars.nasa.gov//news/8386/nasa-to-host-media-call-on-next-mars-landing-site/',\n",
       " 'https://mars.nasa.gov//news/8385/how-nasa-will-know-when-insight-touches-down/',\n",
       " 'https://mars.nasa.gov//news/8384/nasa-brings-mars-landing-to-viewers-everywhere/',\n",
       " 'https://mars.nasa.gov//news/8371/curiosity-on-the-move-again/',\n",
       " 'https://mars.nasa.gov//news/8383/the-mars-insight-landing-site-is-just-plain-perfect/',\n",
       " 'https://mars.nasa.gov//news/8382/five-things-to-know-about-insights-mars-landing/',\n",
       " 'https://mars.nasa.gov//news/8381/nasa-launches-a-new-podcast-to-mars/',\n",
       " 'https://mars.nasa.gov//news/8364/update-on-opportunity-rover-recovery-efforts/',\n",
       " 'https://mars.nasa.gov//news/8380/third-aspire-test-confirms-mars-2020-parachute-a-go/',\n",
       " 'https://mars.nasa.gov//news/8379/nasa-to-host-briefing-on-november-mars-insight-landing/',\n",
       " 'https://mars.nasa.gov//news/8378/nasas-insight-will-study-mars-while-standing-still/',\n",
       " 'https://mars.nasa.gov//news/8377/nasas-first-image-of-mars-from-a-cubesat/',\n",
       " 'https://mars.nasa.gov//news/8375/the-claw-game-on-mars-nasa-insight-plays-to-win/',\n",
       " 'https://mars.nasa.gov//news/8376/scientists-to-debate-landing-site-for-next-mars-rover/',\n",
       " 'https://mars.nasa.gov//news/8374/mars-virtual-reality-software-wins-nasa-award/',\n",
       " 'https://mars.nasa.gov//news/8373/painting-cars-for-mars/',\n",
       " 'https://mars.nasa.gov//news/8370/opportunity-emerges-in-a-dusty-picture/',\n",
       " 'https://mars.nasa.gov//news/8369/nasa-seeking-partner-in-contest-to-name-next-mars-rover/',\n",
       " 'https://mars.nasa.gov//news/8368/nasas-maven-selfie-marks-four-years-in-orbit-at-mars/',\n",
       " 'https://mars.nasa.gov//news/8367/marco-makes-space-for-small-explorers/',\n",
       " 'https://mars.nasa.gov//news/8365/curiosity-surveys-a-mystery-under-dusty-skies/',\n",
       " 'https://mars.nasa.gov//news/8363/nasas-insight-has-a-thermometer-for-mars/',\n",
       " 'https://mars.nasa.gov//news/8362/digital-creators-apply-for-nasa-mars-landing-event/',\n",
       " 'https://mars.nasa.gov//news/8361/nasas-insight-passes-halfway-to-mars-instruments-check-in/',\n",
       " 'https://mars.nasa.gov//news/8360/six-things-about-opportunitys-recovery-efforts/']"
      ]
     },
     "execution_count": 5,
     "metadata": {},
     "output_type": "execute_result"
    }
   ],
   "source": [
    "url_list"
   ]
  },
  {
   "cell_type": "code",
   "execution_count": 6,
   "metadata": {},
   "outputs": [],
   "source": [
    "# article_data = []\n",
    "\n",
    "# for item in url_list:\n",
    "#     url = item\n",
    "#     browser.visit(url)\n",
    "#     html = browser.html\n",
    "#     soup = BeautifulSoup(html, 'html.parser')\n",
    "#     slides = soup.find_all('div', class_='clearfix')\n",
    "#     text_of_article = []\n",
    "#     for items in slides:\n",
    "#         to_append = items.find_all('p')\n",
    "#         for words in to_append:\n",
    "#             to_text = words.text\n",
    "#             text_of_article.append(to_text)\n",
    "#     string_of_list = ''\n",
    "#     for txt in text_of_article:\n",
    "#         var1 = string_of_list\n",
    "#         var2 = txt\n",
    "#         string_of_list = var1 + var2\n",
    "# #     print(type(string_of_list))\n",
    "#     article_data.append(string_of_list)\n",
    "# #     break\n",
    "\n",
    "# print(article_data)\n",
    "\n",
    "\n",
    "    "
   ]
  },
  {
   "cell_type": "code",
   "execution_count": null,
   "metadata": {},
   "outputs": [],
   "source": []
  },
  {
   "cell_type": "code",
   "execution_count": 7,
   "metadata": {},
   "outputs": [],
   "source": [
    "conn = 'mongodb://localhost:27017'\n",
    "client = pymongo.MongoClient(conn)"
   ]
  },
  {
   "cell_type": "code",
   "execution_count": 8,
   "metadata": {},
   "outputs": [],
   "source": [
    "db = client.nasa_data\n",
    "collection = db.items"
   ]
  },
  {
   "cell_type": "code",
   "execution_count": 9,
   "metadata": {},
   "outputs": [],
   "source": [
    "for x in range(len(url_list)):\n",
    "#     print(type(title_list[x]))\n",
    "#     print(type(date_list[x]))\n",
    "#     print(url_list[x])\n",
    "    post = {\n",
    "        'title': title_list[x],\n",
    "        'date': date_list[x],\n",
    "        'url': url_list[x],\n",
    "        'paragraph' : article_data[x]\n",
    "        }\n",
    "    collection.insert_one(post)"
   ]
  },
  {
   "cell_type": "code",
   "execution_count": 10,
   "metadata": {},
   "outputs": [
    {
     "name": "stdout",
     "output_type": "stream",
     "text": [
      "40\n"
     ]
    }
   ],
   "source": [
    "print(len(url_list))"
   ]
  },
  {
   "cell_type": "code",
   "execution_count": 11,
   "metadata": {},
   "outputs": [
    {
     "name": "stdout",
     "output_type": "stream",
     "text": [
      "https://www.jpl.nasa.gov/spaceimages/images/wallpaper/PIA16715-1920x1200.jpg\n"
     ]
    }
   ],
   "source": [
    "url = 'https://www.jpl.nasa.gov/spaceimages/?search=&category=Mars'\n",
    "browser.visit(url)\n",
    "html = browser.html\n",
    "soup = BeautifulSoup(html, 'html.parser')\n",
    "slides = soup.find_all('article', class_='carousel_item')[0]\n",
    "url = slides['style']\n",
    "# url = url['background-image']\n",
    "url = url.split(\"'\")[1]\n",
    "base_url = 'https://www.jpl.nasa.gov'\n",
    "featured_image_url = base_url + url\n",
    "print(featured_image_url)\n",
    "\n",
    "db = client.nasa_data\n",
    "collection = db.wallpaper\n",
    "# for items in slides:\n",
    "#     url_slice = item.split('url')\n",
    "#     print(url_slice)\n",
    "    \n",
    "#     print(type(items))"
   ]
  },
  {
   "cell_type": "code",
   "execution_count": 12,
   "metadata": {},
   "outputs": [],
   "source": [
    "db = client.nasa_data\n",
    "collection = db.featured_image_url"
   ]
  },
  {
   "cell_type": "code",
   "execution_count": 13,
   "metadata": {},
   "outputs": [
    {
     "data": {
      "text/plain": [
       "<pymongo.results.InsertOneResult at 0x20cfd264a48>"
      ]
     },
     "execution_count": 13,
     "metadata": {},
     "output_type": "execute_result"
    }
   ],
   "source": [
    "post = {\n",
    "    'featured_image_url':featured_image_url\n",
    "}\n",
    "collection.insert_one(post)"
   ]
  },
  {
   "cell_type": "code",
   "execution_count": 14,
   "metadata": {},
   "outputs": [],
   "source": [
    "url = 'https://twitter.com/marswxreport?lang=en'\n",
    "browser.visit(url)\n",
    "html = browser.html\n",
    "soup = BeautifulSoup(html, 'html.parser')\n",
    "tweets = soup.find_all('p', class_='TweetTextSize')"
   ]
  },
  {
   "cell_type": "code",
   "execution_count": 15,
   "metadata": {},
   "outputs": [],
   "source": [
    "mars_weather = tweets[0].text"
   ]
  },
  {
   "cell_type": "code",
   "execution_count": 16,
   "metadata": {},
   "outputs": [
    {
     "name": "stdout",
     "output_type": "stream",
     "text": [
      "Sol 2280 (2019-01-04), high -9C/15F, low -71C/-95F, pressure at 8.34 hPa, daylight 06:44-18:55\n"
     ]
    },
    {
     "data": {
      "text/plain": [
       "<pymongo.results.InsertOneResult at 0x20cfda4ac48>"
      ]
     },
     "execution_count": 16,
     "metadata": {},
     "output_type": "execute_result"
    }
   ],
   "source": [
    "print(mars_weather)\n",
    "collection = db.mars_weather\n",
    "post = {\n",
    "    'mars_weather':mars_weather\n",
    "}\n",
    "collection.insert_one(post)"
   ]
  },
  {
   "cell_type": "code",
   "execution_count": 40,
   "metadata": {},
   "outputs": [],
   "source": [
    "url = 'http://space-facts.com/mars/'\n",
    "dataframe = pd.read_html(url)"
   ]
  },
  {
   "cell_type": "code",
   "execution_count": 41,
   "metadata": {},
   "outputs": [
    {
     "name": "stdout",
     "output_type": "stream",
     "text": [
      "            Description                    Information\n",
      "0  Equatorial Diameter:                       6,792 km\n",
      "1       Polar Diameter:                       6,752 km\n",
      "2                 Mass:  6.42 x 10^23 kg (10.7% Earth)\n",
      "3                Moons:            2 (Phobos & Deimos)\n",
      "4       Orbit Distance:       227,943,824 km (1.52 AU)\n",
      "5         Orbit Period:           687 days (1.9 years)\n",
      "6  Surface Temperature:                  -153 to 20 °C\n",
      "7         First Record:              2nd millennium BC\n",
      "8          Recorded By:           Egyptian astronomers\n"
     ]
    }
   ],
   "source": [
    "dataframe = dataframe[0]\n",
    "dataframe = dataframe.rename(columns={0:\"Description\",\\\n",
    "                                     1:\"Information\"})\n",
    "print(dataframe)\n"
   ]
  },
  {
   "cell_type": "code",
   "execution_count": 48,
   "metadata": {},
   "outputs": [],
   "source": [
    "description = dataframe[\"Description\"].tolist()\n",
    "information = dataframe[\"Information\"].tolist()"
   ]
  },
  {
   "cell_type": "code",
   "execution_count": 59,
   "metadata": {},
   "outputs": [],
   "source": [
    "# print(information)\n",
    "zipped = zip(description,information)\n",
    "zipped = dict(zipped)"
   ]
  },
  {
   "cell_type": "code",
   "execution_count": 95,
   "metadata": {},
   "outputs": [
    {
     "data": {
      "text/plain": [
       "{'Equatorial Diameter:': '6,792 km',\n",
       " 'Polar Diameter:': '6,752 km',\n",
       " 'Mass:': '6.42 x 10^23 kg (10.7% Earth)',\n",
       " 'Moons:': '2 (Phobos & Deimos)',\n",
       " 'Orbit Distance:': '227,943,824 km (1.52 AU)',\n",
       " 'Orbit Period:': '687 days (1.9 years)',\n",
       " 'Surface Temperature:': '-153 to 20 °C',\n",
       " 'First Record:': '2nd millennium BC',\n",
       " 'Recorded By:': 'Egyptian astronomers'}"
      ]
     },
     "execution_count": 95,
     "metadata": {},
     "output_type": "execute_result"
    }
   ],
   "source": [
    "zipped"
   ]
  },
  {
   "cell_type": "code",
   "execution_count": 42,
   "metadata": {},
   "outputs": [],
   "source": [
    "# mars_facts_html_string = dataframe.to_html()\n",
    "# dataframe.to_html(\"mars_facts.html\")"
   ]
  },
  {
   "cell_type": "code",
   "execution_count": 43,
   "metadata": {
    "scrolled": true
   },
   "outputs": [],
   "source": [
    "# mars_facts_dict = dataframe.to_dict()"
   ]
  },
  {
   "cell_type": "code",
   "execution_count": 136,
   "metadata": {},
   "outputs": [
    {
     "data": {
      "text/plain": [
       "<pymongo.results.InsertOneResult at 0x20cfe3e5688>"
      ]
     },
     "execution_count": 136,
     "metadata": {},
     "output_type": "execute_result"
    }
   ],
   "source": [
    "# print(mars_weather)\n",
    "collection = db.mars_facts\n",
    "post = {\n",
    "    'mars_facts':zipped\n",
    "}\n",
    "collection.insert_one(post)"
   ]
  },
  {
   "cell_type": "code",
   "execution_count": 137,
   "metadata": {},
   "outputs": [],
   "source": [
    "# mars_facts_dict"
   ]
  },
  {
   "cell_type": "code",
   "execution_count": 138,
   "metadata": {},
   "outputs": [],
   "source": [
    "soltuion = collection.find_one()"
   ]
  },
  {
   "cell_type": "code",
   "execution_count": 139,
   "metadata": {},
   "outputs": [
    {
     "data": {
      "text/plain": [
       "{'_id': ObjectId('5c36d4fea32b3f61786a8994'),\n",
       " 'mars_facts': {'Equatorial Diameter:': '6,792 km',\n",
       "  'Polar Diameter:': '6,752 km',\n",
       "  'Mass:': '6.42 x 10^23 kg (10.7% Earth)',\n",
       "  'Moons:': '2 (Phobos & Deimos)',\n",
       "  'Orbit Distance:': '227,943,824 km (1.52 AU)',\n",
       "  'Orbit Period:': '687 days (1.9 years)',\n",
       "  'Surface Temperature:': '-153 to 20 °C',\n",
       "  'First Record:': '2nd millennium BC',\n",
       "  'Recorded By:': 'Egyptian astronomers'}}"
      ]
     },
     "execution_count": 139,
     "metadata": {},
     "output_type": "execute_result"
    }
   ],
   "source": [
    "soltuion"
   ]
  },
  {
   "cell_type": "code",
   "execution_count": 179,
   "metadata": {},
   "outputs": [],
   "source": [
    "conn = 'mongodb://localhost:27017'\n",
    "client = pymongo.MongoClient(conn)\n",
    "mars_facts = client.nasa_data.mars_facts.find_one({})"
   ]
  },
  {
   "cell_type": "code",
   "execution_count": 186,
   "metadata": {},
   "outputs": [
    {
     "data": {
      "text/plain": [
       "dict_keys(['Equatorial Diameter:', 'Polar Diameter:', 'Mass:', 'Moons:', 'Orbit Distance:', 'Orbit Period:', 'Surface Temperature:', 'First Record:', 'Recorded By:'])"
      ]
     },
     "execution_count": 186,
     "metadata": {},
     "output_type": "execute_result"
    }
   ],
   "source": []
  },
  {
   "cell_type": "raw",
   "metadata": {},
   "source": [
    "\n"
   ]
  },
  {
   "cell_type": "markdown",
   "metadata": {},
   "source": []
  },
  {
   "cell_type": "code",
   "execution_count": 195,
   "metadata": {},
   "outputs": [
    {
     "name": "stdout",
     "output_type": "stream",
     "text": [
      "Equatorial Diameter:\n",
      "Polar Diameter:\n",
      "Mass:\n",
      "Moons:\n",
      "Orbit Distance:\n",
      "Orbit Period:\n",
      "Surface Temperature:\n",
      "First Record:\n",
      "Recorded By:\n"
     ]
    }
   ],
   "source": [
    "for value in mars_facts[\"mars_facts\"]:\n",
    "    print(value)\n",
    "#     privaluent(mars_facts[str(key)])"
   ]
  },
  {
   "cell_type": "code",
   "execution_count": 196,
   "metadata": {},
   "outputs": [
    {
     "data": {
      "text/plain": [
       "'6,792 km'"
      ]
     },
     "execution_count": 196,
     "metadata": {},
     "output_type": "execute_result"
    }
   ],
   "source": [
    "mars_facts[\"mars_facts\"][\"Equatorial Diameter:\"]"
   ]
  },
  {
   "cell_type": "code",
   "execution_count": null,
   "metadata": {},
   "outputs": [],
   "source": []
  }
 ],
 "metadata": {
  "kernelspec": {
   "display_name": "Python 3",
   "language": "python",
   "name": "python3"
  },
  "language_info": {
   "codemirror_mode": {
    "name": "ipython",
    "version": 3
   },
   "file_extension": ".py",
   "mimetype": "text/x-python",
   "name": "python",
   "nbconvert_exporter": "python",
   "pygments_lexer": "ipython3",
   "version": "3.6.7"
  }
 },
 "nbformat": 4,
 "nbformat_minor": 2
}

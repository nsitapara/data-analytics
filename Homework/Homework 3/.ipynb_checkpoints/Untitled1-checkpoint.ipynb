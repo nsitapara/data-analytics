{
 "cells": [
  {
   "cell_type": "code",
   "execution_count": 1,
   "metadata": {},
   "outputs": [],
   "source": [
    "import csv\n",
    "import os\n",
    "\n",
    "# budget_data_file =  os.path.abspath(r\"C:\\Users\\nsita\\Dropbox\\UCB\\data-analytics\\Homework\\Homework 3\\PyPoll\\Resources\\election_data.csv\")\n",
    "# budget_data_file =  os.path.abspath(r\"C:\\Users\\NS\\Dropbox\\UCB\\data-analytics\\Homework\\Homework 3\\PyPoll\\Resources\\election_data.csv\")\n",
    "budget_data_file = os.path.join(\"PyPoll\", \"Resources\", \"election_data.csv\")\n"
   ]
  },
  {
   "cell_type": "code",
   "execution_count": 6,
   "metadata": {},
   "outputs": [
    {
     "ename": "SyntaxError",
     "evalue": "invalid syntax (<ipython-input-6-09f33624b677>, line 2)",
     "output_type": "error",
     "traceback": [
      "\u001b[1;36m  File \u001b[1;32m\"<ipython-input-6-09f33624b677>\"\u001b[1;36m, line \u001b[1;32m2\u001b[0m\n\u001b[1;33m    dict = {\"county\":{\"Candi\":}}\u001b[0m\n\u001b[1;37m                              ^\u001b[0m\n\u001b[1;31mSyntaxError\u001b[0m\u001b[1;31m:\u001b[0m invalid syntax\n"
     ]
    }
   ],
   "source": [
    "\n",
    "dict = {\"county\":{\"Candi\":}}\n",
    "with open(budget_data_file, newline='') as csvfile:\n",
    "    csvreader = csv.reader(csvfile, delimiter=',')\n",
    "    print(csvreader)\n",
    "    # Read the header row first (skip this step if there is now header)\n",
    "    csv_header = next(csvreader)\n",
    "    print(f\"CSV Header: {csv_header}\")\n",
    "#     counter = 0\n",
    "#     names = []\n",
    "#     county = []\n",
    "    \n",
    "    for row in csvreader:\n",
    "        if row[1] in dict:     \n",
    "            if row[2] in dict:\n",
    "            dict[row[2]] = dict[row[2]] + 1\n",
    "        else:\n",
    "            dict[row[2]] = 1\n",
    "        \n",
    "    print(dict)"
   ]
  },
  {
   "cell_type": "code",
   "execution_count": null,
   "metadata": {},
   "outputs": [],
   "source": []
  },
  {
   "cell_type": "code",
   "execution_count": null,
   "metadata": {},
   "outputs": [],
   "source": []
  }
 ],
 "metadata": {
  "kernelspec": {
   "display_name": "Python 3",
   "language": "python",
   "name": "python3"
  },
  "language_info": {
   "codemirror_mode": {
    "name": "ipython",
    "version": 3
   },
   "file_extension": ".py",
   "mimetype": "text/x-python",
   "name": "python",
   "nbconvert_exporter": "python",
   "pygments_lexer": "ipython3",
   "version": "3.6.5"
  }
 },
 "nbformat": 4,
 "nbformat_minor": 2
}

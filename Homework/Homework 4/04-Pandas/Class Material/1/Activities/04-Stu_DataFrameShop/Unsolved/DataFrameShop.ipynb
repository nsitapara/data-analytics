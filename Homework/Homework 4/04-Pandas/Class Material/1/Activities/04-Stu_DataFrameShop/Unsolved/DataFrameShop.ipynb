{
 "cells": [
  {
   "cell_type": "code",
   "execution_count": 2,
   "metadata": {},
   "outputs": [],
   "source": [
    "# Import Dependencies\n",
    "import pandas as pd"
   ]
  },
  {
   "cell_type": "code",
   "execution_count": 31,
   "metadata": {},
   "outputs": [
    {
     "data": {
      "text/html": [
       "<div>\n",
       "<style scoped>\n",
       "    .dataframe tbody tr th:only-of-type {\n",
       "        vertical-align: middle;\n",
       "    }\n",
       "\n",
       "    .dataframe tbody tr th {\n",
       "        vertical-align: top;\n",
       "    }\n",
       "\n",
       "    .dataframe thead th {\n",
       "        text-align: right;\n",
       "    }\n",
       "</style>\n",
       "<table border=\"1\" class=\"dataframe\">\n",
       "  <thead>\n",
       "    <tr style=\"text-align: right;\">\n",
       "      <th></th>\n",
       "      <th>Frame</th>\n",
       "      <th>Price</th>\n",
       "      <th>Sales</th>\n",
       "    </tr>\n",
       "  </thead>\n",
       "  <tbody>\n",
       "    <tr>\n",
       "      <th>0</th>\n",
       "      <td>Ornante</td>\n",
       "      <td>15.0</td>\n",
       "      <td>100</td>\n",
       "    </tr>\n",
       "    <tr>\n",
       "      <th>1</th>\n",
       "      <td>Classical</td>\n",
       "      <td>12.5</td>\n",
       "      <td>200</td>\n",
       "    </tr>\n",
       "    <tr>\n",
       "      <th>2</th>\n",
       "      <td>Modern</td>\n",
       "      <td>10.0</td>\n",
       "      <td>150</td>\n",
       "    </tr>\n",
       "    <tr>\n",
       "      <th>3</th>\n",
       "      <td>Wood</td>\n",
       "      <td>5.0</td>\n",
       "      <td>300</td>\n",
       "    </tr>\n",
       "    <tr>\n",
       "      <th>4</th>\n",
       "      <td>Cardboard</td>\n",
       "      <td>1.0</td>\n",
       "      <td>NA</td>\n",
       "    </tr>\n",
       "  </tbody>\n",
       "</table>\n",
       "</div>"
      ],
      "text/plain": [
       "       Frame  Price Sales\n",
       "0    Ornante   15.0   100\n",
       "1  Classical   12.5   200\n",
       "2     Modern   10.0   150\n",
       "3       Wood    5.0   300\n",
       "4  Cardboard    1.0    NA"
      ]
     },
     "execution_count": 31,
     "metadata": {},
     "output_type": "execute_result"
    }
   ],
   "source": [
    "# DataFrame should have 3 columns: Frame, Price, and Sales AND 5 rows of data\n",
    "\n",
    "# data = {\n",
    "#     \"Frame\": [\"Ornate\",\"Classical\",\"Modern\",\"Wood\",\"Cardboard\"],\n",
    "#     \"Price\": [15.0,12.5,10,5,1],\n",
    "#     \"Sales\": [100,200,150,300,\"N/A\"]\n",
    "    \n",
    "# }\n",
    "\n",
    "data = [{\"Frame\":\"Ornante\", \"Price\":15.00, \"Sales\":100},\n",
    "       {\"Frame\":\"Classical\", \"Price\":12.50, \"Sales\":200},\n",
    "       {\"Frame\":\"Modern\", \"Price\":10.00, \"Sales\":150},\n",
    "       {\"Frame\":\"Wood\", \"Price\":5.00, \"Sales\":300},\n",
    "       {\"Frame\":\"Cardboard\", \"Price\":1.00, \"Sales\":\"NA\"}]\n",
    "\n",
    "\n",
    "dataframe = pd.DataFrame(data)\n",
    "dataframe"
   ]
  },
  {
   "cell_type": "code",
   "execution_count": 24,
   "metadata": {},
   "outputs": [],
   "source": [
    "# Use a different method of creating DataFrames to\n",
    "# Create a DataFrame for an art gallery that contains three columns - \"Painting\", \"Price\", and \"Popularity\"\n",
    "# and has 4 rows of data\n"
   ]
  },
  {
   "cell_type": "code",
   "execution_count": null,
   "metadata": {},
   "outputs": [],
   "source": []
  }
 ],
 "metadata": {
  "kernelspec": {
   "display_name": "Python 3",
   "language": "python",
   "name": "python3"
  },
  "language_info": {
   "codemirror_mode": {
    "name": "ipython",
    "version": 3
   },
   "file_extension": ".py",
   "mimetype": "text/x-python",
   "name": "python",
   "nbconvert_exporter": "python",
   "pygments_lexer": "ipython3",
   "version": "3.7.0"
  }
 },
 "nbformat": 4,
 "nbformat_minor": 2
}

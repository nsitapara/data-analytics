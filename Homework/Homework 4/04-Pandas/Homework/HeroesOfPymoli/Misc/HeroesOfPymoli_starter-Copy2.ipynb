{
 "cells": [
  {
   "cell_type": "markdown",
   "metadata": {},
   "source": [
    "### Heroes Of Pymoli Data Analysis\n",
    "* Of the 1163 active players, the vast majority are male (84%). There also exists, a smaller, but notable proportion of female players (14%).\n",
    "\n",
    "* Our peak age demographic falls between 20-24 (44.8%) with secondary groups falling between 15-19 (18.60%) and 25-29 (13.4%).  \n",
    "-----"
   ]
  },
  {
   "cell_type": "markdown",
   "metadata": {},
   "source": [
    "### Note\n",
    "* Instructions have been included for each segment. You do not have to follow them exactly, but they are included to help you think through the steps."
   ]
  },
  {
   "cell_type": "code",
   "execution_count": 1,
   "metadata": {},
   "outputs": [
    {
     "data": {
      "text/html": [
       "<div>\n",
       "<style scoped>\n",
       "    .dataframe tbody tr th:only-of-type {\n",
       "        vertical-align: middle;\n",
       "    }\n",
       "\n",
       "    .dataframe tbody tr th {\n",
       "        vertical-align: top;\n",
       "    }\n",
       "\n",
       "    .dataframe thead th {\n",
       "        text-align: right;\n",
       "    }\n",
       "</style>\n",
       "<table border=\"1\" class=\"dataframe\">\n",
       "  <thead>\n",
       "    <tr style=\"text-align: right;\">\n",
       "      <th></th>\n",
       "      <th>Purchase ID</th>\n",
       "      <th>SN</th>\n",
       "      <th>Age</th>\n",
       "      <th>Gender</th>\n",
       "      <th>Item ID</th>\n",
       "      <th>Item Name</th>\n",
       "      <th>Price</th>\n",
       "    </tr>\n",
       "  </thead>\n",
       "  <tbody>\n",
       "    <tr>\n",
       "      <th>0</th>\n",
       "      <td>0</td>\n",
       "      <td>Lisim78</td>\n",
       "      <td>20</td>\n",
       "      <td>Male</td>\n",
       "      <td>108</td>\n",
       "      <td>Extraction, Quickblade Of Trembling Hands</td>\n",
       "      <td>3.53</td>\n",
       "    </tr>\n",
       "    <tr>\n",
       "      <th>1</th>\n",
       "      <td>1</td>\n",
       "      <td>Lisovynya38</td>\n",
       "      <td>40</td>\n",
       "      <td>Male</td>\n",
       "      <td>143</td>\n",
       "      <td>Frenzied Scimitar</td>\n",
       "      <td>1.56</td>\n",
       "    </tr>\n",
       "    <tr>\n",
       "      <th>2</th>\n",
       "      <td>2</td>\n",
       "      <td>Ithergue48</td>\n",
       "      <td>24</td>\n",
       "      <td>Male</td>\n",
       "      <td>92</td>\n",
       "      <td>Final Critic</td>\n",
       "      <td>4.88</td>\n",
       "    </tr>\n",
       "    <tr>\n",
       "      <th>3</th>\n",
       "      <td>3</td>\n",
       "      <td>Chamassasya86</td>\n",
       "      <td>24</td>\n",
       "      <td>Male</td>\n",
       "      <td>100</td>\n",
       "      <td>Blindscythe</td>\n",
       "      <td>3.27</td>\n",
       "    </tr>\n",
       "    <tr>\n",
       "      <th>4</th>\n",
       "      <td>4</td>\n",
       "      <td>Iskosia90</td>\n",
       "      <td>23</td>\n",
       "      <td>Male</td>\n",
       "      <td>131</td>\n",
       "      <td>Fury</td>\n",
       "      <td>1.44</td>\n",
       "    </tr>\n",
       "  </tbody>\n",
       "</table>\n",
       "</div>"
      ],
      "text/plain": [
       "   Purchase ID             SN  Age Gender  Item ID  \\\n",
       "0            0        Lisim78   20   Male      108   \n",
       "1            1    Lisovynya38   40   Male      143   \n",
       "2            2     Ithergue48   24   Male       92   \n",
       "3            3  Chamassasya86   24   Male      100   \n",
       "4            4      Iskosia90   23   Male      131   \n",
       "\n",
       "                                   Item Name  Price  \n",
       "0  Extraction, Quickblade Of Trembling Hands   3.53  \n",
       "1                          Frenzied Scimitar   1.56  \n",
       "2                               Final Critic   4.88  \n",
       "3                                Blindscythe   3.27  \n",
       "4                                       Fury   1.44  "
      ]
     },
     "execution_count": 1,
     "metadata": {},
     "output_type": "execute_result"
    }
   ],
   "source": [
    "# Dependencies and Setup\n",
    "import pandas as pd\n",
    "import numpy as np\n",
    "\n",
    "# File to Load (Remember to Change These)\n",
    "file_to_load = \"Resources/purchase_data.csv\"\n",
    "\n",
    "# Read Purchasing File and store into Pandas data frame\n",
    "purchase_data = pd.read_csv(file_to_load)\n",
    "purchase_data.head()"
   ]
  },
  {
   "cell_type": "markdown",
   "metadata": {},
   "source": [
    "## Player Count"
   ]
  },
  {
   "cell_type": "markdown",
   "metadata": {},
   "source": [
    "* Display the total number of players\n"
   ]
  },
  {
   "cell_type": "code",
   "execution_count": 2,
   "metadata": {},
   "outputs": [
    {
     "data": {
      "text/html": [
       "<div>\n",
       "<style scoped>\n",
       "    .dataframe tbody tr th:only-of-type {\n",
       "        vertical-align: middle;\n",
       "    }\n",
       "\n",
       "    .dataframe tbody tr th {\n",
       "        vertical-align: top;\n",
       "    }\n",
       "\n",
       "    .dataframe thead th {\n",
       "        text-align: right;\n",
       "    }\n",
       "</style>\n",
       "<table border=\"1\" class=\"dataframe\">\n",
       "  <thead>\n",
       "    <tr style=\"text-align: right;\">\n",
       "      <th></th>\n",
       "      <th>Total Players</th>\n",
       "    </tr>\n",
       "  </thead>\n",
       "  <tbody>\n",
       "    <tr>\n",
       "      <th>0</th>\n",
       "      <td>576</td>\n",
       "    </tr>\n",
       "  </tbody>\n",
       "</table>\n",
       "</div>"
      ],
      "text/plain": [
       "   Total Players\n",
       "0            576"
      ]
     },
     "execution_count": 2,
     "metadata": {},
     "output_type": "execute_result"
    }
   ],
   "source": [
    "## storing all the unique screan names then count the length of it \n",
    "purchase_data_count = purchase_data[\"SN\"].unique()\n",
    "purchase_data_count ={\"Total Players\" : [len(purchase_data_count)]}\n",
    "number_of_players = pd.DataFrame(purchase_data_count)\n",
    "number_of_players\n",
    "\n",
    "# A seriously gigantic DataFrame of individuals' names, their trainers, their weight, and their days as gym members"
   ]
  },
  {
   "cell_type": "markdown",
   "metadata": {},
   "source": [
    "## Purchasing Analysis (Total)"
   ]
  },
  {
   "cell_type": "markdown",
   "metadata": {},
   "source": [
    "* Run basic calculations to obtain number of unique items, average price, etc.\n",
    "\n",
    "\n",
    "* Create a summary data frame to hold the results\n",
    "\n",
    "\n",
    "* Optional: give the displayed data cleaner formatting\n",
    "\n",
    "\n",
    "* Display the summary data frame\n"
   ]
  },
  {
   "cell_type": "code",
   "execution_count": 3,
   "metadata": {},
   "outputs": [
    {
     "data": {
      "text/plain": [
       "Index(['Purchase ID', 'SN', 'Age', 'Gender', 'Item ID', 'Item Name', 'Price'], dtype='object')"
      ]
     },
     "execution_count": 3,
     "metadata": {},
     "output_type": "execute_result"
    }
   ],
   "source": [
    "purchase_data.columns"
   ]
  },
  {
   "cell_type": "code",
   "execution_count": 4,
   "metadata": {
    "scrolled": true
   },
   "outputs": [
    {
     "data": {
      "text/html": [
       "<div>\n",
       "<style scoped>\n",
       "    .dataframe tbody tr th:only-of-type {\n",
       "        vertical-align: middle;\n",
       "    }\n",
       "\n",
       "    .dataframe tbody tr th {\n",
       "        vertical-align: top;\n",
       "    }\n",
       "\n",
       "    .dataframe thead th {\n",
       "        text-align: right;\n",
       "    }\n",
       "</style>\n",
       "<table border=\"1\" class=\"dataframe\">\n",
       "  <thead>\n",
       "    <tr style=\"text-align: right;\">\n",
       "      <th></th>\n",
       "      <th>Number of Unique Items</th>\n",
       "      <th>Average Price</th>\n",
       "      <th>Number of Purchases</th>\n",
       "      <th>Total Revenue</th>\n",
       "    </tr>\n",
       "  </thead>\n",
       "  <tbody>\n",
       "    <tr>\n",
       "      <th>0</th>\n",
       "      <td>183</td>\n",
       "      <td>$3.05</td>\n",
       "      <td>780</td>\n",
       "      <td>$2,379.77</td>\n",
       "    </tr>\n",
       "  </tbody>\n",
       "</table>\n",
       "</div>"
      ],
      "text/plain": [
       "   Number of Unique Items Average Price  Number of Purchases Total Revenue\n",
       "0                     183         $3.05                  780     $2,379.77"
      ]
     },
     "execution_count": 4,
     "metadata": {},
     "output_type": "execute_result"
    }
   ],
   "source": [
    "# pd.options.display.float_format = '${:,.2f}'.format\n",
    "unique_items = len(purchase_data[\"Item ID\"].unique())\n",
    "avg_price = purchase_data[\"Price\"].mean()\n",
    "num_purchase = purchase_data[\"Purchase ID\"].max() + 1\n",
    "total_rev = purchase_data[\"Price\"].sum()\n",
    "fillwith = {\"Number of Unique Items\": [unique_items],\n",
    "           \"Average Price\": ['${:,.2f}'.format(avg_price)],\n",
    "           \"Number of Purchases\": [num_purchase],\n",
    "           \"Total Revenue\": ['${:,.2f}'.format(total_rev)]}\n",
    "purchase_analysis = pd.DataFrame(fillwith)\n",
    "purchase_analysis\n"
   ]
  },
  {
   "cell_type": "markdown",
   "metadata": {},
   "source": [
    "## Gender Demographics"
   ]
  },
  {
   "cell_type": "markdown",
   "metadata": {},
   "source": [
    "* Percentage and Count of Male Players\n",
    "\n",
    "\n",
    "* Percentage and Count of Female Players\n",
    "\n",
    "\n",
    "* Percentage and Count of Other / Non-Disclosed\n",
    "\n",
    "\n"
   ]
  },
  {
   "cell_type": "code",
   "execution_count": 5,
   "metadata": {
    "scrolled": true
   },
   "outputs": [
    {
     "data": {
      "text/html": [
       "<div>\n",
       "<style scoped>\n",
       "    .dataframe tbody tr th:only-of-type {\n",
       "        vertical-align: middle;\n",
       "    }\n",
       "\n",
       "    .dataframe tbody tr th {\n",
       "        vertical-align: top;\n",
       "    }\n",
       "\n",
       "    .dataframe thead th {\n",
       "        text-align: right;\n",
       "    }\n",
       "</style>\n",
       "<table border=\"1\" class=\"dataframe\">\n",
       "  <thead>\n",
       "    <tr style=\"text-align: right;\">\n",
       "      <th></th>\n",
       "      <th>Total Count</th>\n",
       "      <th>Percentage of Players</th>\n",
       "    </tr>\n",
       "    <tr>\n",
       "      <th></th>\n",
       "      <th></th>\n",
       "      <th></th>\n",
       "    </tr>\n",
       "  </thead>\n",
       "  <tbody>\n",
       "    <tr>\n",
       "      <th>Male</th>\n",
       "      <td>484</td>\n",
       "      <td>84.03</td>\n",
       "    </tr>\n",
       "    <tr>\n",
       "      <th>Female</th>\n",
       "      <td>81</td>\n",
       "      <td>14.06</td>\n",
       "    </tr>\n",
       "    <tr>\n",
       "      <th>Other / Non-Disclosed</th>\n",
       "      <td>11</td>\n",
       "      <td>1.91</td>\n",
       "    </tr>\n",
       "  </tbody>\n",
       "</table>\n",
       "</div>"
      ],
      "text/plain": [
       "                       Total Count Percentage of Players\n",
       "                                                        \n",
       "Male                           484                 84.03\n",
       "Female                          81                 14.06\n",
       "Other / Non-Disclosed           11                  1.91"
      ]
     },
     "execution_count": 5,
     "metadata": {},
     "output_type": "execute_result"
    }
   ],
   "source": [
    "demographics = purchase_data[[\"SN\", \"Gender\"]]\n",
    "demographics = demographics.drop_duplicates()\n",
    "demographics = demographics.groupby(\"Gender\").count()\n",
    "\n",
    "maleCount = demographics.loc[\"Male\", \"SN\"]\n",
    "femaleCount = demographics.loc[\"Female\", \"SN\"]\n",
    "otherCount = demographics.loc[\"Other / Non-Disclosed\", \"SN\"]\n",
    "total_count = maleCount + femaleCount + otherCount\n",
    "\n",
    "\n",
    "# type(femaleCount)\n",
    "# maleCount = demographics.loc[\"Male\"]\n",
    "# femaleCount = demographics.loc[\"Female\"]\n",
    "\n",
    "\n",
    "\n",
    "fillwith = {\"\": [\"Male\", \"Female\", \"Other / Non-Disclosed\"],\n",
    "            \"Total Count\": [maleCount, femaleCount, otherCount],\n",
    "            \"Percentage of Players\": ['{:,.2f}'.format((maleCount/total_count*100)),'{:,.2f}'.format((femaleCount/total_count*100)),'{:,.2f}'.format((otherCount/total_count*100))]}\n",
    "\n",
    "gender_demographics = pd.DataFrame(fillwith)\n",
    "gender_demographics = gender_demographics.set_index(\"\")\n",
    "gender_demographics \n"
   ]
  },
  {
   "cell_type": "markdown",
   "metadata": {},
   "source": [
    "\n",
    "## Purchasing Analysis (Gender)"
   ]
  },
  {
   "cell_type": "markdown",
   "metadata": {},
   "source": [
    "\n",
    "## Purchasing Analysis (Gender)"
   ]
  },
  {
   "cell_type": "markdown",
   "metadata": {},
   "source": [
    "* Run basic calculations to obtain purchase count, avg. purchase price, avg. purchase total per person etc. by gender\n",
    "\n",
    "\n",
    "\n",
    "\n",
    "* Create a summary data frame to hold the results\n",
    "\n",
    "\n",
    "* Optional: give the displayed data cleaner formatting\n",
    "\n",
    "\n",
    "* Display the summary data frame"
   ]
  },
  {
   "cell_type": "code",
   "execution_count": 6,
   "metadata": {},
   "outputs": [
    {
     "data": {
      "text/plain": [
       "\n",
       "Male                     484\n",
       "Female                    81\n",
       "Other / Non-Disclosed     11\n",
       "Name: Total Count, dtype: int64"
      ]
     },
     "execution_count": 6,
     "metadata": {},
     "output_type": "execute_result"
    }
   ],
   "source": [
    "gender_demographics[\"Total Count\"]"
   ]
  },
  {
   "cell_type": "code",
   "execution_count": 7,
   "metadata": {},
   "outputs": [
    {
     "data": {
      "text/html": [
       "<div>\n",
       "<style scoped>\n",
       "    .dataframe tbody tr th:only-of-type {\n",
       "        vertical-align: middle;\n",
       "    }\n",
       "\n",
       "    .dataframe tbody tr th {\n",
       "        vertical-align: top;\n",
       "    }\n",
       "\n",
       "    .dataframe thead th {\n",
       "        text-align: right;\n",
       "    }\n",
       "</style>\n",
       "<table border=\"1\" class=\"dataframe\">\n",
       "  <thead>\n",
       "    <tr style=\"text-align: right;\">\n",
       "      <th></th>\n",
       "      <th>Purchase Count</th>\n",
       "      <th>Total Purchase Value</th>\n",
       "      <th>Average Purchase Price</th>\n",
       "      <th>Avg Total Purchase per Person</th>\n",
       "    </tr>\n",
       "    <tr>\n",
       "      <th>Gender</th>\n",
       "      <th></th>\n",
       "      <th></th>\n",
       "      <th></th>\n",
       "      <th></th>\n",
       "    </tr>\n",
       "  </thead>\n",
       "  <tbody>\n",
       "    <tr>\n",
       "      <th>Female</th>\n",
       "      <td>113</td>\n",
       "      <td>361.94</td>\n",
       "      <td>$3.20</td>\n",
       "      <td>$4.47</td>\n",
       "    </tr>\n",
       "    <tr>\n",
       "      <th>Male</th>\n",
       "      <td>652</td>\n",
       "      <td>1967.64</td>\n",
       "      <td>$3.02</td>\n",
       "      <td>$4.07</td>\n",
       "    </tr>\n",
       "    <tr>\n",
       "      <th>Other / Non-Disclosed</th>\n",
       "      <td>15</td>\n",
       "      <td>50.19</td>\n",
       "      <td>$3.35</td>\n",
       "      <td>$4.56</td>\n",
       "    </tr>\n",
       "  </tbody>\n",
       "</table>\n",
       "</div>"
      ],
      "text/plain": [
       "                       Purchase Count  Total Purchase Value  \\\n",
       "Gender                                                        \n",
       "Female                            113                361.94   \n",
       "Male                              652               1967.64   \n",
       "Other / Non-Disclosed              15                 50.19   \n",
       "\n",
       "                      Average Purchase Price Avg Total Purchase per Person  \n",
       "Gender                                                                      \n",
       "Female                                 $3.20                         $4.47  \n",
       "Male                                   $3.02                         $4.07  \n",
       "Other / Non-Disclosed                  $3.35                         $4.56  "
      ]
     },
     "execution_count": 7,
     "metadata": {},
     "output_type": "execute_result"
    }
   ],
   "source": [
    "purchase_data.head()\n",
    "\n",
    "purchase_anlysis_gender = purchase_data[[\"Gender\", \"Price\"]]\n",
    "\n",
    "\n",
    "purchase_anlysis_gender = purchase_anlysis_gender.groupby(\"Gender\")\n",
    "\n",
    "purchase_count = purchase_anlysis_gender.count()\n",
    "sum_of_counts = purchase_anlysis_gender.sum()\n",
    "\n",
    "\n",
    "# tofill = {purchase_count}\n",
    "purchase_anlysis_gender_df = pd.merge(purchase_count,sum_of_counts, on=\"Gender\")\n",
    "purchase_anlysis_gender_df = purchase_anlysis_gender_df.rename(columns = {\"Price_x\": \"Purchase Count\",\n",
    "                                           \"Price_y\":\"Total Purchase Value\"})\n",
    "\n",
    "average_purchase_price = purchase_anlysis_gender_df[\"Total Purchase Value\"] / purchase_anlysis_gender_df[\"Purchase Count\"] \n",
    "purchase_anlysis_gender_df = pd.merge(purchase_anlysis_gender_df,average_purchase_price.to_frame(\"Average Purchase Price\"), on = \"Gender\")\n",
    "purchase_anlysis_gender_df[\"Avg Total Purchase per Person\"] = purchase_anlysis_gender_df[\"Total Purchase Value\"]/gender_demographics[\"Total Count\"]\n",
    "purchase_anlysis_gender_df[\"Average Purchase Price\"] = purchase_anlysis_gender_df[\"Average Purchase Price\"].map(\"${:.2f}\".format)\n",
    "purchase_anlysis_gender_df[\"Avg Total Purchase per Person\"]  = purchase_anlysis_gender_df[\"Avg Total Purchase per Person\"] .map(\"${:.2f}\".format)\n",
    "purchase_anlysis_gender_df"
   ]
  },
  {
   "cell_type": "markdown",
   "metadata": {},
   "source": [
    "## Age Demographics"
   ]
  },
  {
   "cell_type": "markdown",
   "metadata": {},
   "source": [
    "* Establish bins for ages\n",
    "\n",
    "\n",
    "* Categorize the existing players using the age bins. Hint: use pd.cut()\n",
    "\n",
    "\n",
    "* Calculate the numbers and percentages by age group\n",
    "\n",
    "\n",
    "* Create a summary data frame to hold the results\n",
    "\n",
    "\n",
    "* Optional: round the percentage column to two decimal points\n",
    "\n",
    "\n",
    "* Display Age Demographics Table\n"
   ]
  },
  {
   "cell_type": "code",
   "execution_count": 8,
   "metadata": {},
   "outputs": [],
   "source": [
    "# #aa = pd.cut(age_gender_unique_df[\"Age\"], bins, labels=group_names)\n",
    "\n",
    "# hp_bins = [0, 9, 14, 19, 24, 29, 34, 39, 100]\n",
    "# hp_labels = [\"<10\", \"10-14\", \"15-19\", \"20-24\",\"25-29\",\"30-34\", \"30-35\", \"40+\"]\n",
    "\n",
    "# # Bin the Horsepower column\n",
    "# # cut() returns a Pandas Series containing each of the binned column\"s values translated into their corresponding bins\n",
    "# purchase_data_unique_SN = purchase_data[[\"SN\", \"Age\"]]\n",
    "\n",
    "# purchase_data_unique_SN = purchase_data.drop_duplicates() \n",
    "# age_gender_unique_df[\"age ranges\"] = pd.cut(purchase_data_unique_SN[\"Age\"], hp_bins, labels=hp_labels)\n",
    "# age_gender_unique_df\n",
    "# grouped_age_gender_unique_df = age_gender_unique_df.groupby(\"age ranges\")\n",
    "# grouped_age_gender_unique_df[[\"Age\"]].count()\n",
    "# first_column_df = pd.DataFrame(grouped_age_gender_unique_df[[\"Age\"]].count())\n",
    "# #create ned df with second column, percentages\n",
    "# calute_percent_df = 100*(first_column_df)/Total_Players\n",
    "\n",
    "# df_merged = first_column_df.merge(calute_percent_df, how=\"outer\", left_index=True, right_index=True)\n",
    "# df_merged\n",
    "\n",
    "# df_merged = df_merged.rename(columns={\"Age_x\":\"Total Count\", \"Age_y\":\"Percentage of Players\"})\n",
    "\n",
    "# df_merged[\"Percentage of Players\"] = df_merged[\"Percentage of Players\"].apply(\"{:,.2f}\".format)\n",
    "# df_merged"
   ]
  },
  {
   "cell_type": "code",
   "execution_count": 13,
   "metadata": {
    "scrolled": true
   },
   "outputs": [
    {
     "data": {
      "text/html": [
       "<div>\n",
       "<style scoped>\n",
       "    .dataframe tbody tr th:only-of-type {\n",
       "        vertical-align: middle;\n",
       "    }\n",
       "\n",
       "    .dataframe tbody tr th {\n",
       "        vertical-align: top;\n",
       "    }\n",
       "\n",
       "    .dataframe thead th {\n",
       "        text-align: right;\n",
       "    }\n",
       "</style>\n",
       "<table border=\"1\" class=\"dataframe\">\n",
       "  <thead>\n",
       "    <tr style=\"text-align: right;\">\n",
       "      <th></th>\n",
       "      <th>Total Count</th>\n",
       "      <th>Percentage of Players</th>\n",
       "    </tr>\n",
       "    <tr>\n",
       "      <th>Age Group</th>\n",
       "      <th></th>\n",
       "      <th></th>\n",
       "    </tr>\n",
       "  </thead>\n",
       "  <tbody>\n",
       "    <tr>\n",
       "      <th>&lt;10</th>\n",
       "      <td>17</td>\n",
       "      <td>2.95</td>\n",
       "    </tr>\n",
       "    <tr>\n",
       "      <th>10-14</th>\n",
       "      <td>22</td>\n",
       "      <td>3.82</td>\n",
       "    </tr>\n",
       "    <tr>\n",
       "      <th>15-19</th>\n",
       "      <td>107</td>\n",
       "      <td>18.58</td>\n",
       "    </tr>\n",
       "    <tr>\n",
       "      <th>20-24</th>\n",
       "      <td>258</td>\n",
       "      <td>44.79</td>\n",
       "    </tr>\n",
       "    <tr>\n",
       "      <th>25-29</th>\n",
       "      <td>77</td>\n",
       "      <td>13.37</td>\n",
       "    </tr>\n",
       "    <tr>\n",
       "      <th>30-34</th>\n",
       "      <td>52</td>\n",
       "      <td>9.03</td>\n",
       "    </tr>\n",
       "    <tr>\n",
       "      <th>35-39</th>\n",
       "      <td>31</td>\n",
       "      <td>5.38</td>\n",
       "    </tr>\n",
       "    <tr>\n",
       "      <th>40+</th>\n",
       "      <td>12</td>\n",
       "      <td>2.08</td>\n",
       "    </tr>\n",
       "  </tbody>\n",
       "</table>\n",
       "</div>"
      ],
      "text/plain": [
       "           Total Count Percentage of Players\n",
       "Age Group                                   \n",
       "<10                 17                  2.95\n",
       "10-14               22                  3.82\n",
       "15-19              107                 18.58\n",
       "20-24              258                 44.79\n",
       "25-29               77                 13.37\n",
       "30-34               52                  9.03\n",
       "35-39               31                  5.38\n",
       "40+                 12                  2.08"
      ]
     },
     "execution_count": 13,
     "metadata": {},
     "output_type": "execute_result"
    }
   ],
   "source": [
    "age_group = purchase_data[[\"SN\", \"Gender\",\"Age\"]]\n",
    "# age_group = age_group.drop_duplicates()\n",
    "# age_group\n",
    "# age_group[\"Age\"]= age_group[\"Age\"].astype(\"int64\")\n",
    "# bins = [0, 10, 15, 20, 25, 30, 35, 40, max(age_group[\"Age\"])]\n",
    "\n",
    "bins = [0, 9, 14, 19, 24, 29, 34, 39, max(age_group[\"Age\"])]\n",
    "names = [\"<10\",\"10-14\",\"15-19\",\"20-24\", \"25-29\", \"30-34\", \"35-39\", \"40+\"]\n",
    "purchase_data_mod = purchase_data\n",
    "\n",
    "\n",
    "# purchase_data_mod\n",
    "purchase_data_mod[\"Age Group\"] = pd.cut(age_group[\"Age\"],bins, labels = names, duplicates=\"drop\")\n",
    "purchase_data_mod\n",
    "\n",
    "purchase_data_mod = purchase_data_mod[[\"SN\",\"Age\",\"Age Group\",\"Gender\"]]\n",
    "# newframe = purchase_data_mod[purchase_data_mod[\"Age Group\"].isnull()]\n",
    "# newframe\n",
    "purchase_data_mod = purchase_data_mod.drop_duplicates()\n",
    "# test_frame\n",
    "purchase_data_mod_grouped = purchase_data_mod.groupby(\"Age Group\")\n",
    "age_demo_total_count = purchase_data_mod_grouped.count()\n",
    "age_demo_total_count.head(100)\n",
    "age_demo_total_count = age_demo_total_count[\"SN\"]\n",
    "total_players = age_demo_total_count.sum()\n",
    "age_demo_total_count =age_demo_total_count.to_frame()\n",
    "age_demo_total_count[\"Percentage of Players\"] = (age_demo_total_count[\"SN\"]/ total_players) *100\n",
    "age_demo_total_count[\"Percentage of Players\"] = age_demo_total_count[\"Percentage of Players\"].map(\"{:.2f}\".format)\n",
    "age_demo_total_count = age_demo_total_count.rename( columns={\"SN\":\"Total Count\"} )\n",
    "age_demo_total_count\n"
   ]
  },
  {
   "cell_type": "markdown",
   "metadata": {},
   "source": [
    "## Purchasing Analysis (Age)"
   ]
  },
  {
   "cell_type": "markdown",
   "metadata": {},
   "source": [
    "* Bin the purchase_data data frame by age\n",
    "\n",
    "\n",
    "* Run basic calculations to obtain purchase count, avg. purchase price, avg. purchase total per person etc. in the table below\n",
    "\n",
    "\n",
    "* Create a summary data frame to hold the results\n",
    "\n",
    "\n",
    "* Optional: give the displayed data cleaner formatting\n",
    "\n",
    "\n",
    "* Display the summary data frame"
   ]
  },
  {
   "cell_type": "code",
   "execution_count": null,
   "metadata": {},
   "outputs": [],
   "source": [
    "\n",
    "purchase_data_mod.head()\n",
    "\n",
    "purchase_analysis_by_age = purchase_data_mod[[\"Age\",\"Price\"]]\n",
    "# \n",
    "purchase_analysis_by_age_grouped = purchase_analysis_by_age.groupby(\"Age\")\n",
    "\n",
    "average_purchase_price = purchase_analysis_by_age_grouped.mean()\n",
    "# total_purchase_value = grouped_by_age.sum()\n",
    "# purchase_count = grouped_by_age.count()\n"
   ]
  },
  {
   "cell_type": "markdown",
   "metadata": {},
   "source": [
    "## Top Spenders"
   ]
  },
  {
   "cell_type": "markdown",
   "metadata": {},
   "source": [
    "* Run basic calculations to obtain the results in the table below\n",
    "\n",
    "\n",
    "* Create a summary data frame to hold the results\n",
    "\n",
    "\n",
    "* Sort the total purchase value column in descending order\n",
    "\n",
    "\n",
    "* Optional: give the displayed data cleaner formatting\n",
    "\n",
    "\n",
    "* Display a preview of the summary data frame\n",
    "\n"
   ]
  },
  {
   "cell_type": "code",
   "execution_count": null,
   "metadata": {},
   "outputs": [],
   "source": [
    "top_spenders = purchase_data[[\"SN\", \"Price\"]]\n",
    "top_spenders_grouped = top_spenders.groupby(\"SN\")\n",
    "\n",
    "avg_purchase_price = top_spenders_grouped.mean()\n",
    "purchase_count = top_spenders_grouped.count()\n",
    "total_purchase_value = top_spenders_grouped.sum()\n",
    "# top_spenders = purchase_data[[\"SN\", \"Price\", \"Age Group\"]]\n",
    "top_spenders = top_spenders.set_index(\"SN\")\n",
    "# top_spenders.head()\n",
    "top_spender_summary = pd.merge(avg_purchase_price,purchase_count, on=\"SN\")\n",
    "top_spender_summary = top_spender_summary.rename(columns={\"Price_x\" : \"Average Purchase Price\", \"Price_y\" : \"Purchase Count\"})\n",
    "top_spender_summary = pd.merge(top_spender_summary,total_purchase_value, on = \"SN\")\n",
    "top_spender_summary = top_spender_summary.rename(columns={\"Price\":\"Total Purchase Value\"})\n",
    "top_spender_summary = top_spender_summary.sort_values(\"Total Purchase Value\",ascending=False)\n",
    "\n",
    "top_spender_summary[\"Average Purchase Price\"] = top_spender_summary[\"Average Purchase Price\"].map(\"${:.2f}\".format)\n",
    "top_spender_summary[\"Total Purchase Value\"] = top_spender_summary[\"Total Purchase Value\"].map(\"${:.2f}\".format)\n",
    "\n",
    "top_spender_summary.head()"
   ]
  },
  {
   "cell_type": "markdown",
   "metadata": {},
   "source": [
    "## Most Popular Items"
   ]
  },
  {
   "cell_type": "markdown",
   "metadata": {},
   "source": [
    "* Retrieve the Item ID, Item Name, and Item Price columns\n",
    "\n",
    "\n",
    "* Group by Item ID and Item Name. Perform calculations to obtain purchase count, item price, and total purchase value\n",
    "\n",
    "\n",
    "* Create a summary data frame to hold the results\n",
    "\n",
    "\n",
    "* Sort the purchase count column in descending order\n",
    "\n",
    "\n",
    "* Optional: give the displayed data cleaner formatting\n",
    "\n",
    "\n",
    "* Display a preview of the summary data frame\n",
    "\n"
   ]
  },
  {
   "cell_type": "code",
   "execution_count": null,
   "metadata": {},
   "outputs": [],
   "source": [
    "purchase_data.columns"
   ]
  },
  {
   "cell_type": "code",
   "execution_count": null,
   "metadata": {},
   "outputs": [],
   "source": [
    "most_popular_items = purchase_data[[\"Item ID\", \"Item Name\" ,\"Price\"]]\n",
    "# most_popular_items = most_popular_items.set_index(\"Item ID\")\n",
    "grouped = most_popular_items.groupby([\"Item ID\",\"Item Name\"])\n",
    "purchase_count = grouped.count()\n",
    "# del purchase_count[\"Price\"]\n",
    "purchase_count\n",
    "# most_popular_items[\"Purchase Count\"] = purchase_count[\"Item Name\"]\n",
    "\n",
    "##wht getting duplicate values?\n",
    "most_popular_items =pd.merge(most_popular_items,purchase_count, on = \"Item Name\", how = 'right')\n",
    "# # most_popular_items = most_popular_items.rename({\"Item Name_x\":\"Item Name\", \"Item Name_y\":\"Purchase Count\"})\n",
    "\n",
    "# most_popular_items\n",
    "most_popular_items = most_popular_items.drop_duplicates()\n",
    "most_popular_items = most_popular_items.rename(columns={\"Price_x\": \"Item Price\", \"Price_y\": \"Purchase Count\"})\n",
    "most_popular_items[\"Total Purchase Value\"] = most_popular_items[\"Item Price\"] * most_popular_items[\"Purchase Count\"]\n",
    "most_popular_items1 = most_popular_items[\"Total Purchase Value\"].astype(\"int64\", copy = True)\n",
    "most_popular_items = most_popular_items.sort_values(by=\"Purchase Count\", ascending=False).rename(columns={\"Price_x\": \"Price\", \"Price_y\": \"Purchase Count\"}).set_index([\"Item ID\", \"Item Name\"])\n",
    "most_popular_items[\"Item Price\"] = most_popular_items[\"Item Price\"].map(\"${:.2f}\".format)\n",
    "most_popular_items[\"Total Purchase Value\"] = most_popular_items[\"Total Purchase Value\"].map(\"${:.2f}\".format)\n",
    "most_popular_items.head(15)"
   ]
  },
  {
   "cell_type": "markdown",
   "metadata": {},
   "source": [
    "## Most Profitable Items"
   ]
  },
  {
   "cell_type": "markdown",
   "metadata": {},
   "source": [
    "* Sort the above table by total purchase value in descending order\n",
    "\n",
    "\n",
    "* Optional: give the displayed data cleaner formatting\n",
    "\n",
    "\n",
    "* Display a preview of the data frame\n",
    "\n"
   ]
  },
  {
   "cell_type": "code",
   "execution_count": null,
   "metadata": {
    "scrolled": true
   },
   "outputs": [],
   "source": [
    "most_popular_items = most_popular_items.sort_values(by=\"Total Purchase Value\", ascending=False)\n",
    "most_popular_items.head(50)"
   ]
  },
  {
   "cell_type": "code",
   "execution_count": null,
   "metadata": {},
   "outputs": [],
   "source": []
  }
 ],
 "metadata": {
  "anaconda-cloud": {},
  "kernel_info": {
   "name": "python3"
  },
  "kernelspec": {
   "display_name": "Python 3",
   "language": "python",
   "name": "python3"
  },
  "language_info": {
   "codemirror_mode": {
    "name": "ipython",
    "version": 3
   },
   "file_extension": ".py",
   "mimetype": "text/x-python",
   "name": "python",
   "nbconvert_exporter": "python",
   "pygments_lexer": "ipython3",
   "version": "3.7.0"
  },
  "nteract": {
   "version": "0.2.0"
  }
 },
 "nbformat": 4,
 "nbformat_minor": 2
}
